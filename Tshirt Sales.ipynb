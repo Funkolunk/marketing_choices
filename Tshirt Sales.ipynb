{
 "cells": [
  {
   "cell_type": "markdown",
   "id": "7af0ba86",
   "metadata": {},
   "source": [
    "In ABC Shirt company, they have asked the marketing manager to evaluate between the different scenarios that the company is planning and decide the best one amongst them to maximize the units sold.\n",
    "\n",
    "The different scenarios involve different strategies for pricing, advertising expenditure, and\n",
    "Promotional expenditure. They have traditionally used gut-based decision-making to do these projects but now want to be more data-driven about these projections. \n",
    " \n",
    " \n",
    "Can you help the Sales manager to decide amongst the 3 scenarios? You would need to use linear regression to establish the relationship between Price, Advertisement and Promotion and Units sold.\n"
   ]
  },
  {
   "cell_type": "markdown",
   "id": "d99d0f59",
   "metadata": {},
   "source": [
    "## Assumption: There is a linear relationship between the independent x-variables (Price, Advertisement and Promotion) and the dependent y-variable Units sold."
   ]
  },
  {
   "cell_type": "code",
   "execution_count": 2,
   "id": "d212f1d5",
   "metadata": {},
   "outputs": [],
   "source": [
    "import pandas as pd # for data analysis\n",
    "import numpy as np # for numericaal analysis\n",
    "import matplotlib.pyplot as plt # for data-viz\n",
    "%matplotlib inline\n",
    "\n",
    "import seaborn as sns"
   ]
  },
  {
   "cell_type": "code",
   "execution_count": 3,
   "id": "b99783c8",
   "metadata": {},
   "outputs": [],
   "source": [
    "url = 'https://raw.githubusercontent.com/vkoul/data/main/misc/tshirt_sales.csv'"
   ]
  },
  {
   "cell_type": "code",
   "execution_count": 4,
   "id": "59b13942",
   "metadata": {},
   "outputs": [],
   "source": [
    "df = pd.read_csv(url) "
   ]
  },
  {
   "cell_type": "code",
   "execution_count": 46,
   "id": "813cb862",
   "metadata": {},
   "outputs": [
    {
     "data": {
      "text/html": [
       "<div>\n",
       "<style scoped>\n",
       "    .dataframe tbody tr th:only-of-type {\n",
       "        vertical-align: middle;\n",
       "    }\n",
       "\n",
       "    .dataframe tbody tr th {\n",
       "        vertical-align: top;\n",
       "    }\n",
       "\n",
       "    .dataframe thead th {\n",
       "        text-align: right;\n",
       "    }\n",
       "</style>\n",
       "<table border=\"1\" class=\"dataframe\">\n",
       "  <thead>\n",
       "    <tr style=\"text-align: right;\">\n",
       "      <th></th>\n",
       "      <th>Year</th>\n",
       "      <th>Month</th>\n",
       "      <th>units_sold</th>\n",
       "      <th>dollar_price</th>\n",
       "      <th>advertisment</th>\n",
       "      <th>promotions</th>\n",
       "    </tr>\n",
       "  </thead>\n",
       "  <tbody>\n",
       "    <tr>\n",
       "      <th>0</th>\n",
       "      <td>2019</td>\n",
       "      <td>1</td>\n",
       "      <td>73959</td>\n",
       "      <td>8.75</td>\n",
       "      <td>50.04</td>\n",
       "      <td>61.13</td>\n",
       "    </tr>\n",
       "    <tr>\n",
       "      <th>1</th>\n",
       "      <td>2019</td>\n",
       "      <td>2</td>\n",
       "      <td>71544</td>\n",
       "      <td>8.99</td>\n",
       "      <td>50.74</td>\n",
       "      <td>60.19</td>\n",
       "    </tr>\n",
       "    <tr>\n",
       "      <th>2</th>\n",
       "      <td>2019</td>\n",
       "      <td>3</td>\n",
       "      <td>78587</td>\n",
       "      <td>7.50</td>\n",
       "      <td>50.14</td>\n",
       "      <td>59.16</td>\n",
       "    </tr>\n",
       "    <tr>\n",
       "      <th>3</th>\n",
       "      <td>2019</td>\n",
       "      <td>4</td>\n",
       "      <td>80364</td>\n",
       "      <td>7.25</td>\n",
       "      <td>50.27</td>\n",
       "      <td>60.38</td>\n",
       "    </tr>\n",
       "    <tr>\n",
       "      <th>4</th>\n",
       "      <td>2019</td>\n",
       "      <td>5</td>\n",
       "      <td>78771</td>\n",
       "      <td>7.40</td>\n",
       "      <td>51.25</td>\n",
       "      <td>59.71</td>\n",
       "    </tr>\n",
       "  </tbody>\n",
       "</table>\n",
       "</div>"
      ],
      "text/plain": [
       "   Year  Month  units_sold  dollar_price  advertisment  promotions\n",
       "0  2019      1       73959          8.75         50.04       61.13\n",
       "1  2019      2       71544          8.99         50.74       60.19\n",
       "2  2019      3       78587          7.50         50.14       59.16\n",
       "3  2019      4       80364          7.25         50.27       60.38\n",
       "4  2019      5       78771          7.40         51.25       59.71"
      ]
     },
     "execution_count": 46,
     "metadata": {},
     "output_type": "execute_result"
    }
   ],
   "source": [
    "df.head()"
   ]
  },
  {
   "cell_type": "code",
   "execution_count": 6,
   "id": "62fd4fa1",
   "metadata": {},
   "outputs": [
    {
     "data": {
      "text/plain": [
       "Index(['Year', 'Month', 'units_sold', 'dollar_price', 'advertisment',\n",
       "       'promotions'],\n",
       "      dtype='object')"
      ]
     },
     "execution_count": 6,
     "metadata": {},
     "output_type": "execute_result"
    }
   ],
   "source": [
    "df.columns"
   ]
  },
  {
   "cell_type": "code",
   "execution_count": 7,
   "id": "0b5a3add",
   "metadata": {},
   "outputs": [
    {
     "data": {
      "text/plain": [
       "Year            0\n",
       "Month           0\n",
       "units_sold      0\n",
       "dollar_price    0\n",
       "advertisment    0\n",
       "promotions      0\n",
       "dtype: int64"
      ]
     },
     "execution_count": 7,
     "metadata": {},
     "output_type": "execute_result"
    }
   ],
   "source": [
    "df.isna().sum()"
   ]
  },
  {
   "cell_type": "code",
   "execution_count": 8,
   "id": "c076c3ed",
   "metadata": {},
   "outputs": [
    {
     "name": "stdout",
     "output_type": "stream",
     "text": [
      "<class 'pandas.core.frame.DataFrame'>\n",
      "RangeIndex: 24 entries, 0 to 23\n",
      "Data columns (total 6 columns):\n",
      " #   Column        Non-Null Count  Dtype  \n",
      "---  ------        --------------  -----  \n",
      " 0   Year          24 non-null     int64  \n",
      " 1   Month         24 non-null     int64  \n",
      " 2   units_sold    24 non-null     int64  \n",
      " 3   dollar_price  24 non-null     float64\n",
      " 4   advertisment  24 non-null     float64\n",
      " 5   promotions    24 non-null     float64\n",
      "dtypes: float64(3), int64(3)\n",
      "memory usage: 1.2 KB\n"
     ]
    }
   ],
   "source": [
    "df.info()"
   ]
  },
  {
   "cell_type": "code",
   "execution_count": 9,
   "id": "9245cdda",
   "metadata": {},
   "outputs": [
    {
     "data": {
      "text/html": [
       "<div>\n",
       "<style scoped>\n",
       "    .dataframe tbody tr th:only-of-type {\n",
       "        vertical-align: middle;\n",
       "    }\n",
       "\n",
       "    .dataframe tbody tr th {\n",
       "        vertical-align: top;\n",
       "    }\n",
       "\n",
       "    .dataframe thead th {\n",
       "        text-align: right;\n",
       "    }\n",
       "</style>\n",
       "<table border=\"1\" class=\"dataframe\">\n",
       "  <thead>\n",
       "    <tr style=\"text-align: right;\">\n",
       "      <th></th>\n",
       "      <th>Year</th>\n",
       "      <th>Month</th>\n",
       "      <th>units_sold</th>\n",
       "      <th>dollar_price</th>\n",
       "      <th>advertisment</th>\n",
       "      <th>promotions</th>\n",
       "    </tr>\n",
       "  </thead>\n",
       "  <tbody>\n",
       "    <tr>\n",
       "      <th>0</th>\n",
       "      <td>2019</td>\n",
       "      <td>1</td>\n",
       "      <td>73959</td>\n",
       "      <td>8.75</td>\n",
       "      <td>50.04</td>\n",
       "      <td>61.13</td>\n",
       "    </tr>\n",
       "    <tr>\n",
       "      <th>1</th>\n",
       "      <td>2019</td>\n",
       "      <td>2</td>\n",
       "      <td>71544</td>\n",
       "      <td>8.99</td>\n",
       "      <td>50.74</td>\n",
       "      <td>60.19</td>\n",
       "    </tr>\n",
       "    <tr>\n",
       "      <th>2</th>\n",
       "      <td>2019</td>\n",
       "      <td>3</td>\n",
       "      <td>78587</td>\n",
       "      <td>7.50</td>\n",
       "      <td>50.14</td>\n",
       "      <td>59.16</td>\n",
       "    </tr>\n",
       "    <tr>\n",
       "      <th>3</th>\n",
       "      <td>2019</td>\n",
       "      <td>4</td>\n",
       "      <td>80364</td>\n",
       "      <td>7.25</td>\n",
       "      <td>50.27</td>\n",
       "      <td>60.38</td>\n",
       "    </tr>\n",
       "    <tr>\n",
       "      <th>4</th>\n",
       "      <td>2019</td>\n",
       "      <td>5</td>\n",
       "      <td>78771</td>\n",
       "      <td>7.40</td>\n",
       "      <td>51.25</td>\n",
       "      <td>59.71</td>\n",
       "    </tr>\n",
       "  </tbody>\n",
       "</table>\n",
       "</div>"
      ],
      "text/plain": [
       "   Year  Month  units_sold  dollar_price  advertisment  promotions\n",
       "0  2019      1       73959          8.75         50.04       61.13\n",
       "1  2019      2       71544          8.99         50.74       60.19\n",
       "2  2019      3       78587          7.50         50.14       59.16\n",
       "3  2019      4       80364          7.25         50.27       60.38\n",
       "4  2019      5       78771          7.40         51.25       59.71"
      ]
     },
     "execution_count": 9,
     "metadata": {},
     "output_type": "execute_result"
    }
   ],
   "source": [
    "key_columns =  ['units_sold', 'dollar_price', 'advertisment','promotions']\n",
    "df.head()"
   ]
  },
  {
   "cell_type": "code",
   "execution_count": 10,
   "id": "d2150e6a",
   "metadata": {},
   "outputs": [
    {
     "data": {
      "text/html": [
       "<div>\n",
       "<style scoped>\n",
       "    .dataframe tbody tr th:only-of-type {\n",
       "        vertical-align: middle;\n",
       "    }\n",
       "\n",
       "    .dataframe tbody tr th {\n",
       "        vertical-align: top;\n",
       "    }\n",
       "\n",
       "    .dataframe thead th {\n",
       "        text-align: right;\n",
       "    }\n",
       "</style>\n",
       "<table border=\"1\" class=\"dataframe\">\n",
       "  <thead>\n",
       "    <tr style=\"text-align: right;\">\n",
       "      <th></th>\n",
       "      <th>count</th>\n",
       "      <th>mean</th>\n",
       "      <th>std</th>\n",
       "      <th>min</th>\n",
       "      <th>25%</th>\n",
       "      <th>50%</th>\n",
       "      <th>75%</th>\n",
       "      <th>max</th>\n",
       "    </tr>\n",
       "  </thead>\n",
       "  <tbody>\n",
       "    <tr>\n",
       "      <th>units_sold</th>\n",
       "      <td>24.0</td>\n",
       "      <td>74258.29</td>\n",
       "      <td>3164.39</td>\n",
       "      <td>69003.00</td>\n",
       "      <td>71959.50</td>\n",
       "      <td>74103.00</td>\n",
       "      <td>76354.50</td>\n",
       "      <td>80364.00</td>\n",
       "    </tr>\n",
       "    <tr>\n",
       "      <th>dollar_price</th>\n",
       "      <td>24.0</td>\n",
       "      <td>8.13</td>\n",
       "      <td>0.51</td>\n",
       "      <td>7.25</td>\n",
       "      <td>7.90</td>\n",
       "      <td>8.15</td>\n",
       "      <td>8.43</td>\n",
       "      <td>8.99</td>\n",
       "    </tr>\n",
       "    <tr>\n",
       "      <th>advertisment</th>\n",
       "      <td>24.0</td>\n",
       "      <td>50.15</td>\n",
       "      <td>1.28</td>\n",
       "      <td>48.00</td>\n",
       "      <td>49.40</td>\n",
       "      <td>50.12</td>\n",
       "      <td>50.77</td>\n",
       "      <td>54.00</td>\n",
       "    </tr>\n",
       "    <tr>\n",
       "      <th>promotions</th>\n",
       "      <td>24.0</td>\n",
       "      <td>59.88</td>\n",
       "      <td>0.68</td>\n",
       "      <td>58.00</td>\n",
       "      <td>59.64</td>\n",
       "      <td>59.90</td>\n",
       "      <td>60.24</td>\n",
       "      <td>61.13</td>\n",
       "    </tr>\n",
       "  </tbody>\n",
       "</table>\n",
       "</div>"
      ],
      "text/plain": [
       "              count      mean      std       min       25%       50%  \\\n",
       "units_sold     24.0  74258.29  3164.39  69003.00  71959.50  74103.00   \n",
       "dollar_price   24.0      8.13     0.51      7.25      7.90      8.15   \n",
       "advertisment   24.0     50.15     1.28     48.00     49.40     50.12   \n",
       "promotions     24.0     59.88     0.68     58.00     59.64     59.90   \n",
       "\n",
       "                   75%       max  \n",
       "units_sold    76354.50  80364.00  \n",
       "dollar_price      8.43      8.99  \n",
       "advertisment     50.77     54.00  \n",
       "promotions       60.24     61.13  "
      ]
     },
     "execution_count": 10,
     "metadata": {},
     "output_type": "execute_result"
    }
   ],
   "source": [
    "df[key_columns].describe().round(2).T"
   ]
  },
  {
   "cell_type": "code",
   "execution_count": 11,
   "id": "545b9c02",
   "metadata": {},
   "outputs": [
    {
     "data": {
      "image/png": "[encoded data removed]",
      "text/plain": [
       "<Figure size 720x576 with 4 Axes>"
      ]
     },
     "metadata": {
      "needs_background": "light"
     },
     "output_type": "display_data"
    }
   ],
   "source": [
    "df[key_columns].hist(figsize = (10, 8), grid = False, color= 'blue');"
   ]
  },
  {
   "cell_type": "code",
   "execution_count": 12,
   "id": "02daafed",
   "metadata": {},
   "outputs": [
    {
     "data": {
      "image/png": "[encoded data removed]",
      "text/plain": [
       "<Figure size 720x720 with 4 Axes>"
      ]
     },
     "metadata": {
      "needs_background": "light"
     },
     "output_type": "display_data"
    }
   ],
   "source": [
    "df[key_columns].plot.line(figsize = (10, 10), subplots=True, marker = 's');"
   ]
  },
  {
   "cell_type": "markdown",
   "id": "e989864e",
   "metadata": {},
   "source": [
    "## Let's look at the data to see if the above assumption is valid"
   ]
  },
  {
   "cell_type": "code",
   "execution_count": 13,
   "id": "7324cf5b",
   "metadata": {},
   "outputs": [
    {
     "data": {
      "image/png": "[encoded data removed]",
      "text/plain": [
       "<Figure size 432x288 with 1 Axes>"
      ]
     },
     "metadata": {},
     "output_type": "display_data"
    }
   ],
   "source": [
    "sns.set_style('white')  #no grid lines\n",
    "sns.set_style('ticks')\n",
    "\n",
    "sns.regplot(x = 'dollar_price', y = 'units_sold', data = df);"
   ]
  },
  {
   "cell_type": "code",
   "execution_count": 14,
   "id": "81eeffc0",
   "metadata": {},
   "outputs": [
    {
     "data": {
      "image/png": "[encoded data removed]",
      "text/plain": [
       "<Figure size 432x288 with 1 Axes>"
      ]
     },
     "metadata": {},
     "output_type": "display_data"
    }
   ],
   "source": [
    "sns.regplot(x = 'advertisment', y = 'units_sold', data = df);"
   ]
  },
  {
   "cell_type": "code",
   "execution_count": 15,
   "id": "563266ff",
   "metadata": {},
   "outputs": [
    {
     "data": {
      "image/png": "[encoded data removed]",
      "text/plain": [
       "<Figure size 432x288 with 1 Axes>"
      ]
     },
     "metadata": {},
     "output_type": "display_data"
    }
   ],
   "source": [
    "sns.regplot(x = 'promotions', y = 'units_sold', data = df);"
   ]
  },
  {
   "cell_type": "markdown",
   "id": "7d291e5d",
   "metadata": {},
   "source": [
    "### OK so... units_sold vs dollar price looks like it holds true to a linear relationship but the other 2 are questionable as their confidence interval shading is quite large. Let's look at the r-values to see the strength of each"
   ]
  },
  {
   "cell_type": "code",
   "execution_count": 16,
   "id": "02241bf7",
   "metadata": {},
   "outputs": [
    {
     "data": {
      "image/png": "[encoded data removed]",
      "text/plain": [
       "<Figure size 720x720 with 20 Axes>"
      ]
     },
     "metadata": {},
     "output_type": "display_data"
    }
   ],
   "source": [
    "# sns.pairplot(df[key_columns]);\n",
    "# sns.pairplot(df[key_columns], kind ='reg');\n",
    "sns.pairplot(df[key_columns], diag_kind = 'kde');"
   ]
  },
  {
   "cell_type": "code",
   "execution_count": 17,
   "id": "5e2138b0",
   "metadata": {},
   "outputs": [
    {
     "name": "stdout",
     "output_type": "stream",
     "text": [
      "                  Year     Month  units_sold  dollar_price  advertisment  \\\n",
      "Year          1.000000  0.866778   -0.252104      0.073925     -0.219616   \n",
      "Month         0.866778  1.000000   -0.257635      0.074756     -0.161949   \n",
      "units_sold   -0.252104 -0.257635    1.000000     -0.786759      0.320547   \n",
      "dollar_price  0.073925  0.074756   -0.786759      1.000000     -0.023577   \n",
      "advertisment -0.219616 -0.161949    0.320547     -0.023577      1.000000   \n",
      "promotions   -0.167203 -0.276877    0.355050      0.074222      0.101075   \n",
      "\n",
      "              promotions  \n",
      "Year           -0.167203  \n",
      "Month          -0.276877  \n",
      "units_sold      0.355050  \n",
      "dollar_price    0.074222  \n",
      "advertisment    0.101075  \n",
      "promotions      1.000000  \n"
     ]
    },
    {
     "data": {
      "text/plain": [
       "<AxesSubplot:>"
      ]
     },
     "execution_count": 17,
     "metadata": {},
     "output_type": "execute_result"
    },
    {
     "data": {
      "image/png": "[encoded data removed]",
      "text/plain": [
       "<Figure size 432x288 with 2 Axes>"
      ]
     },
     "metadata": {},
     "output_type": "display_data"
    }
   ],
   "source": [
    "# prints data that will be plotted\n",
    "# columns shown here are selected by corr() since\n",
    "# they are ideal for the plot\n",
    "print(df.corr())\n",
    "  \n",
    "# plotting correlation heatmap\n",
    "sns.heatmap(df.corr(), cmap=\"YlGnBu\", annot=True)\n",
    "  \n"
   ]
  },
  {
   "cell_type": "markdown",
   "id": "3b11213d",
   "metadata": {},
   "source": [
    "units_sold vs dollar price r-val is moderately strong and therefore can be a good model but the other two, units_sold vs advertisment AND units_sold vs promotions are very weak therefore not good models  "
   ]
  },
  {
   "cell_type": "code",
   "execution_count": 18,
   "id": "61e315e1",
   "metadata": {},
   "outputs": [
    {
     "data": {
      "image/png": "[encoded data removed]",
      "text/plain": [
       "<Figure size 720x360 with 1 Axes>"
      ]
     },
     "metadata": {},
     "output_type": "display_data"
    }
   ],
   "source": [
    "# Plotting the linecharts\n",
    "\n",
    "# plot size\n",
    "plt.figure(figsize = (10,5))\n",
    "\n",
    "# line chart\n",
    "df[\"units_sold\"].plot(kind = \"line\", label = \"actual_units\", marker = \"o\");\n",
    "\n",
    "\n",
    "# labels\n",
    "plt.ylabel(\"Units sold\")\n",
    "plt.title(\"Units sold over the period\")\n",
    "\n",
    "# show\n",
    "plt.show();"
   ]
  },
  {
   "cell_type": "code",
   "execution_count": null,
   "id": "7dfd727b",
   "metadata": {},
   "outputs": [],
   "source": []
  },
  {
   "cell_type": "markdown",
   "id": "d85e83b2",
   "metadata": {},
   "source": [
    "#### use linreg to see if there is a clear recommendation"
   ]
  },
  {
   "cell_type": "code",
   "execution_count": 19,
   "id": "ff5ba730",
   "metadata": {},
   "outputs": [],
   "source": [
    "from sklearn.linear_model import LinearRegression\n",
    "from sklearn.model_selection import train_test_split"
   ]
  },
  {
   "cell_type": "code",
   "execution_count": 20,
   "id": "708a6348",
   "metadata": {},
   "outputs": [
    {
     "data": {
      "text/plain": [
       "(24, 6)"
      ]
     },
     "execution_count": 20,
     "metadata": {},
     "output_type": "execute_result"
    }
   ],
   "source": [
    "df.shape"
   ]
  },
  {
   "cell_type": "code",
   "execution_count": 21,
   "id": "6e03531b",
   "metadata": {},
   "outputs": [
    {
     "data": {
      "text/html": [
       "<div>\n",
       "<style scoped>\n",
       "    .dataframe tbody tr th:only-of-type {\n",
       "        vertical-align: middle;\n",
       "    }\n",
       "\n",
       "    .dataframe tbody tr th {\n",
       "        vertical-align: top;\n",
       "    }\n",
       "\n",
       "    .dataframe thead th {\n",
       "        text-align: right;\n",
       "    }\n",
       "</style>\n",
       "<table border=\"1\" class=\"dataframe\">\n",
       "  <thead>\n",
       "    <tr style=\"text-align: right;\">\n",
       "      <th></th>\n",
       "      <th>Year</th>\n",
       "      <th>Month</th>\n",
       "      <th>units_sold</th>\n",
       "      <th>dollar_price</th>\n",
       "      <th>advertisment</th>\n",
       "      <th>promotions</th>\n",
       "    </tr>\n",
       "  </thead>\n",
       "  <tbody>\n",
       "    <tr>\n",
       "      <th>0</th>\n",
       "      <td>2019</td>\n",
       "      <td>1</td>\n",
       "      <td>73959</td>\n",
       "      <td>8.75</td>\n",
       "      <td>50.04</td>\n",
       "      <td>61.13</td>\n",
       "    </tr>\n",
       "    <tr>\n",
       "      <th>1</th>\n",
       "      <td>2019</td>\n",
       "      <td>2</td>\n",
       "      <td>71544</td>\n",
       "      <td>8.99</td>\n",
       "      <td>50.74</td>\n",
       "      <td>60.19</td>\n",
       "    </tr>\n",
       "    <tr>\n",
       "      <th>2</th>\n",
       "      <td>2019</td>\n",
       "      <td>3</td>\n",
       "      <td>78587</td>\n",
       "      <td>7.50</td>\n",
       "      <td>50.14</td>\n",
       "      <td>59.16</td>\n",
       "    </tr>\n",
       "    <tr>\n",
       "      <th>3</th>\n",
       "      <td>2019</td>\n",
       "      <td>4</td>\n",
       "      <td>80364</td>\n",
       "      <td>7.25</td>\n",
       "      <td>50.27</td>\n",
       "      <td>60.38</td>\n",
       "    </tr>\n",
       "    <tr>\n",
       "      <th>4</th>\n",
       "      <td>2019</td>\n",
       "      <td>5</td>\n",
       "      <td>78771</td>\n",
       "      <td>7.40</td>\n",
       "      <td>51.25</td>\n",
       "      <td>59.71</td>\n",
       "    </tr>\n",
       "    <tr>\n",
       "      <th>5</th>\n",
       "      <td>2019</td>\n",
       "      <td>6</td>\n",
       "      <td>71986</td>\n",
       "      <td>8.50</td>\n",
       "      <td>50.65</td>\n",
       "      <td>59.88</td>\n",
       "    </tr>\n",
       "    <tr>\n",
       "      <th>6</th>\n",
       "      <td>2019</td>\n",
       "      <td>7</td>\n",
       "      <td>74885</td>\n",
       "      <td>8.40</td>\n",
       "      <td>50.87</td>\n",
       "      <td>60.14</td>\n",
       "    </tr>\n",
       "    <tr>\n",
       "      <th>7</th>\n",
       "      <td>2019</td>\n",
       "      <td>8</td>\n",
       "      <td>73345</td>\n",
       "      <td>7.90</td>\n",
       "      <td>50.15</td>\n",
       "      <td>60.08</td>\n",
       "    </tr>\n",
       "    <tr>\n",
       "      <th>8</th>\n",
       "      <td>2019</td>\n",
       "      <td>9</td>\n",
       "      <td>76659</td>\n",
       "      <td>7.25</td>\n",
       "      <td>48.24</td>\n",
       "      <td>59.90</td>\n",
       "    </tr>\n",
       "    <tr>\n",
       "      <th>9</th>\n",
       "      <td>2019</td>\n",
       "      <td>10</td>\n",
       "      <td>71880</td>\n",
       "      <td>8.70</td>\n",
       "      <td>50.19</td>\n",
       "      <td>59.68</td>\n",
       "    </tr>\n",
       "    <tr>\n",
       "      <th>10</th>\n",
       "      <td>2019</td>\n",
       "      <td>11</td>\n",
       "      <td>73598</td>\n",
       "      <td>8.40</td>\n",
       "      <td>51.11</td>\n",
       "      <td>59.83</td>\n",
       "    </tr>\n",
       "    <tr>\n",
       "      <th>11</th>\n",
       "      <td>2019</td>\n",
       "      <td>12</td>\n",
       "      <td>74893</td>\n",
       "      <td>8.10</td>\n",
       "      <td>51.49</td>\n",
       "      <td>59.77</td>\n",
       "    </tr>\n",
       "    <tr>\n",
       "      <th>12</th>\n",
       "      <td>2020</td>\n",
       "      <td>13</td>\n",
       "      <td>69003</td>\n",
       "      <td>8.40</td>\n",
       "      <td>50.10</td>\n",
       "      <td>59.29</td>\n",
       "    </tr>\n",
       "    <tr>\n",
       "      <th>13</th>\n",
       "      <td>2020</td>\n",
       "      <td>14</td>\n",
       "      <td>78542</td>\n",
       "      <td>7.40</td>\n",
       "      <td>49.24</td>\n",
       "      <td>60.40</td>\n",
       "    </tr>\n",
       "    <tr>\n",
       "      <th>14</th>\n",
       "      <td>2020</td>\n",
       "      <td>15</td>\n",
       "      <td>72543</td>\n",
       "      <td>8.00</td>\n",
       "      <td>50.04</td>\n",
       "      <td>59.89</td>\n",
       "    </tr>\n",
       "    <tr>\n",
       "      <th>15</th>\n",
       "      <td>2020</td>\n",
       "      <td>16</td>\n",
       "      <td>74247</td>\n",
       "      <td>8.30</td>\n",
       "      <td>49.46</td>\n",
       "      <td>60.06</td>\n",
       "    </tr>\n",
       "    <tr>\n",
       "      <th>16</th>\n",
       "      <td>2020</td>\n",
       "      <td>17</td>\n",
       "      <td>76253</td>\n",
       "      <td>8.10</td>\n",
       "      <td>51.62</td>\n",
       "      <td>60.51</td>\n",
       "    </tr>\n",
       "    <tr>\n",
       "      <th>17</th>\n",
       "      <td>2020</td>\n",
       "      <td>18</td>\n",
       "      <td>72582</td>\n",
       "      <td>8.20</td>\n",
       "      <td>49.78</td>\n",
       "      <td>58.93</td>\n",
       "    </tr>\n",
       "    <tr>\n",
       "      <th>18</th>\n",
       "      <td>2020</td>\n",
       "      <td>19</td>\n",
       "      <td>69022</td>\n",
       "      <td>8.99</td>\n",
       "      <td>48.60</td>\n",
       "      <td>60.09</td>\n",
       "    </tr>\n",
       "    <tr>\n",
       "      <th>19</th>\n",
       "      <td>2020</td>\n",
       "      <td>20</td>\n",
       "      <td>76200</td>\n",
       "      <td>7.99</td>\n",
       "      <td>49.00</td>\n",
       "      <td>61.00</td>\n",
       "    </tr>\n",
       "    <tr>\n",
       "      <th>20</th>\n",
       "      <td>2020</td>\n",
       "      <td>21</td>\n",
       "      <td>69701</td>\n",
       "      <td>8.50</td>\n",
       "      <td>48.00</td>\n",
       "      <td>59.00</td>\n",
       "    </tr>\n",
       "    <tr>\n",
       "      <th>21</th>\n",
       "      <td>2020</td>\n",
       "      <td>22</td>\n",
       "      <td>77005</td>\n",
       "      <td>7.90</td>\n",
       "      <td>54.00</td>\n",
       "      <td>59.50</td>\n",
       "    </tr>\n",
       "    <tr>\n",
       "      <th>22</th>\n",
       "      <td>2020</td>\n",
       "      <td>23</td>\n",
       "      <td>70987</td>\n",
       "      <td>7.99</td>\n",
       "      <td>48.70</td>\n",
       "      <td>58.00</td>\n",
       "    </tr>\n",
       "    <tr>\n",
       "      <th>23</th>\n",
       "      <td>2020</td>\n",
       "      <td>24</td>\n",
       "      <td>75643</td>\n",
       "      <td>8.25</td>\n",
       "      <td>50.00</td>\n",
       "      <td>60.50</td>\n",
       "    </tr>\n",
       "  </tbody>\n",
       "</table>\n",
       "</div>"
      ],
      "text/plain": [
       "    Year  Month  units_sold  dollar_price  advertisment  promotions\n",
       "0   2019      1       73959          8.75         50.04       61.13\n",
       "1   2019      2       71544          8.99         50.74       60.19\n",
       "2   2019      3       78587          7.50         50.14       59.16\n",
       "3   2019      4       80364          7.25         50.27       60.38\n",
       "4   2019      5       78771          7.40         51.25       59.71\n",
       "5   2019      6       71986          8.50         50.65       59.88\n",
       "6   2019      7       74885          8.40         50.87       60.14\n",
       "7   2019      8       73345          7.90         50.15       60.08\n",
       "8   2019      9       76659          7.25         48.24       59.90\n",
       "9   2019     10       71880          8.70         50.19       59.68\n",
       "10  2019     11       73598          8.40         51.11       59.83\n",
       "11  2019     12       74893          8.10         51.49       59.77\n",
       "12  2020     13       69003          8.40         50.10       59.29\n",
       "13  2020     14       78542          7.40         49.24       60.40\n",
       "14  2020     15       72543          8.00         50.04       59.89\n",
       "15  2020     16       74247          8.30         49.46       60.06\n",
       "16  2020     17       76253          8.10         51.62       60.51\n",
       "17  2020     18       72582          8.20         49.78       58.93\n",
       "18  2020     19       69022          8.99         48.60       60.09\n",
       "19  2020     20       76200          7.99         49.00       61.00\n",
       "20  2020     21       69701          8.50         48.00       59.00\n",
       "21  2020     22       77005          7.90         54.00       59.50\n",
       "22  2020     23       70987          7.99         48.70       58.00\n",
       "23  2020     24       75643          8.25         50.00       60.50"
      ]
     },
     "execution_count": 21,
     "metadata": {},
     "output_type": "execute_result"
    }
   ],
   "source": [
    "df"
   ]
  },
  {
   "cell_type": "code",
   "execution_count": 22,
   "id": "e46ffab3",
   "metadata": {},
   "outputs": [
    {
     "data": {
      "text/plain": [
       "Year           -0.252104\n",
       "Month          -0.257635\n",
       "units_sold      1.000000\n",
       "dollar_price   -0.786759\n",
       "advertisment    0.320547\n",
       "promotions      0.355050\n",
       "Name: units_sold, dtype: float64"
      ]
     },
     "execution_count": 22,
     "metadata": {},
     "output_type": "execute_result"
    }
   ],
   "source": [
    "df.corr()['units_sold']"
   ]
  },
  {
   "cell_type": "code",
   "execution_count": 23,
   "id": "aef2c257",
   "metadata": {},
   "outputs": [
    {
     "data": {
      "text/plain": [
       "Index(['Year', 'Month', 'units_sold', 'dollar_price', 'advertisment',\n",
       "       'promotions'],\n",
       "      dtype='object')"
      ]
     },
     "execution_count": 23,
     "metadata": {},
     "output_type": "execute_result"
    }
   ],
   "source": [
    "df.columns"
   ]
  },
  {
   "cell_type": "markdown",
   "id": "2f252f3b",
   "metadata": {},
   "source": [
    "#### creating data variables"
   ]
  },
  {
   "cell_type": "code",
   "execution_count": 24,
   "id": "3b6ff77a",
   "metadata": {},
   "outputs": [
    {
     "name": "stdout",
     "output_type": "stream",
     "text": [
      "    dollar_price  advertisment  promotions\n",
      "0           8.75         50.04       61.13\n",
      "1           8.99         50.74       60.19\n",
      "2           7.50         50.14       59.16\n",
      "3           7.25         50.27       60.38\n",
      "4           7.40         51.25       59.71\n",
      "5           8.50         50.65       59.88\n",
      "6           8.40         50.87       60.14\n",
      "7           7.90         50.15       60.08\n",
      "8           7.25         48.24       59.90\n",
      "9           8.70         50.19       59.68\n",
      "10          8.40         51.11       59.83\n",
      "11          8.10         51.49       59.77\n",
      "12          8.40         50.10       59.29\n",
      "13          7.40         49.24       60.40\n",
      "14          8.00         50.04       59.89\n",
      "15          8.30         49.46       60.06\n",
      "16          8.10         51.62       60.51\n",
      "17          8.20         49.78       58.93\n",
      "18          8.99         48.60       60.09\n",
      "19          7.99         49.00       61.00\n",
      "20          8.50         48.00       59.00\n",
      "21          7.90         54.00       59.50\n",
      "22          7.99         48.70       58.00\n",
      "23          8.25         50.00       60.50\n"
     ]
    }
   ],
   "source": [
    "x = df.iloc[:, 3:6] # [:(takes all rows), columns 3 thru 6]\n",
    "print(x)"
   ]
  },
  {
   "cell_type": "code",
   "execution_count": 25,
   "id": "75ce07e5",
   "metadata": {},
   "outputs": [
    {
     "name": "stdout",
     "output_type": "stream",
     "text": [
      "    units_sold\n",
      "0        73959\n",
      "1        71544\n",
      "2        78587\n",
      "3        80364\n",
      "4        78771\n",
      "5        71986\n",
      "6        74885\n",
      "7        73345\n",
      "8        76659\n",
      "9        71880\n",
      "10       73598\n",
      "11       74893\n",
      "12       69003\n",
      "13       78542\n",
      "14       72543\n",
      "15       74247\n",
      "16       76253\n",
      "17       72582\n",
      "18       69022\n",
      "19       76200\n",
      "20       69701\n",
      "21       77005\n",
      "22       70987\n",
      "23       75643\n"
     ]
    }
   ],
   "source": [
    "y = df.iloc[:, 2:3]\n",
    "print(y)"
   ]
  },
  {
   "cell_type": "code",
   "execution_count": 26,
   "id": "572b8aa8",
   "metadata": {},
   "outputs": [],
   "source": [
    "x_train, x_test, y_train, y_test = train_test_split(x,y)"
   ]
  },
  {
   "cell_type": "code",
   "execution_count": 27,
   "id": "875d01bb",
   "metadata": {},
   "outputs": [
    {
     "name": "stdout",
     "output_type": "stream",
     "text": [
      "x_train:  (18, 3)\n",
      "x_test:  (6, 3)\n",
      "\n",
      "\n",
      "y_train:  (18, 1)\n",
      "y_test:  (6, 1)\n"
     ]
    },
    {
     "data": {
      "text/html": [
       "<div>\n",
       "<style scoped>\n",
       "    .dataframe tbody tr th:only-of-type {\n",
       "        vertical-align: middle;\n",
       "    }\n",
       "\n",
       "    .dataframe tbody tr th {\n",
       "        vertical-align: top;\n",
       "    }\n",
       "\n",
       "    .dataframe thead th {\n",
       "        text-align: right;\n",
       "    }\n",
       "</style>\n",
       "<table border=\"1\" class=\"dataframe\">\n",
       "  <thead>\n",
       "    <tr style=\"text-align: right;\">\n",
       "      <th></th>\n",
       "      <th>dollar_price</th>\n",
       "      <th>advertisment</th>\n",
       "      <th>promotions</th>\n",
       "    </tr>\n",
       "  </thead>\n",
       "  <tbody>\n",
       "    <tr>\n",
       "      <th>14</th>\n",
       "      <td>8.0</td>\n",
       "      <td>50.04</td>\n",
       "      <td>59.89</td>\n",
       "    </tr>\n",
       "    <tr>\n",
       "      <th>13</th>\n",
       "      <td>7.4</td>\n",
       "      <td>49.24</td>\n",
       "      <td>60.40</td>\n",
       "    </tr>\n",
       "    <tr>\n",
       "      <th>17</th>\n",
       "      <td>8.2</td>\n",
       "      <td>49.78</td>\n",
       "      <td>58.93</td>\n",
       "    </tr>\n",
       "    <tr>\n",
       "      <th>5</th>\n",
       "      <td>8.5</td>\n",
       "      <td>50.65</td>\n",
       "      <td>59.88</td>\n",
       "    </tr>\n",
       "    <tr>\n",
       "      <th>4</th>\n",
       "      <td>7.4</td>\n",
       "      <td>51.25</td>\n",
       "      <td>59.71</td>\n",
       "    </tr>\n",
       "  </tbody>\n",
       "</table>\n",
       "</div>"
      ],
      "text/plain": [
       "    dollar_price  advertisment  promotions\n",
       "14           8.0         50.04       59.89\n",
       "13           7.4         49.24       60.40\n",
       "17           8.2         49.78       58.93\n",
       "5            8.5         50.65       59.88\n",
       "4            7.4         51.25       59.71"
      ]
     },
     "metadata": {},
     "output_type": "display_data"
    },
    {
     "data": {
      "text/html": [
       "<div>\n",
       "<style scoped>\n",
       "    .dataframe tbody tr th:only-of-type {\n",
       "        vertical-align: middle;\n",
       "    }\n",
       "\n",
       "    .dataframe tbody tr th {\n",
       "        vertical-align: top;\n",
       "    }\n",
       "\n",
       "    .dataframe thead th {\n",
       "        text-align: right;\n",
       "    }\n",
       "</style>\n",
       "<table border=\"1\" class=\"dataframe\">\n",
       "  <thead>\n",
       "    <tr style=\"text-align: right;\">\n",
       "      <th></th>\n",
       "      <th>units_sold</th>\n",
       "    </tr>\n",
       "  </thead>\n",
       "  <tbody>\n",
       "    <tr>\n",
       "      <th>14</th>\n",
       "      <td>72543</td>\n",
       "    </tr>\n",
       "    <tr>\n",
       "      <th>13</th>\n",
       "      <td>78542</td>\n",
       "    </tr>\n",
       "    <tr>\n",
       "      <th>17</th>\n",
       "      <td>72582</td>\n",
       "    </tr>\n",
       "    <tr>\n",
       "      <th>5</th>\n",
       "      <td>71986</td>\n",
       "    </tr>\n",
       "    <tr>\n",
       "      <th>4</th>\n",
       "      <td>78771</td>\n",
       "    </tr>\n",
       "  </tbody>\n",
       "</table>\n",
       "</div>"
      ],
      "text/plain": [
       "    units_sold\n",
       "14       72543\n",
       "13       78542\n",
       "17       72582\n",
       "5        71986\n",
       "4        78771"
      ]
     },
     "metadata": {},
     "output_type": "display_data"
    }
   ],
   "source": [
    "print(\"x_train: \", x_train.shape)\n",
    "print(\"x_test: \", x_test.shape)\n",
    "\n",
    "print(\"\\n\")\n",
    "\n",
    "print(\"y_train: \", y_train.shape)\n",
    "print(\"y_test: \", y_test.shape)\n",
    "\n",
    "display(x_train.head())\n",
    "display(y_train.head())"
   ]
  },
  {
   "cell_type": "markdown",
   "id": "336611fd",
   "metadata": {},
   "source": [
    "### Model building"
   ]
  },
  {
   "cell_type": "code",
   "execution_count": 28,
   "id": "95ea1245",
   "metadata": {},
   "outputs": [
    {
     "data": {
      "text/plain": [
       "units_sold    74258.291667\n",
       "dtype: float64"
      ]
     },
     "execution_count": 28,
     "metadata": {},
     "output_type": "execute_result"
    }
   ],
   "source": [
    "y.mean()"
   ]
  },
  {
   "cell_type": "code",
   "execution_count": 29,
   "id": "4c0baa68",
   "metadata": {},
   "outputs": [
    {
     "name": "stdout",
     "output_type": "stream",
     "text": [
      "[[76667.37170724]\n",
      " [75162.05636552]\n",
      " [73919.34562826]\n",
      " [70471.36668625]\n",
      " [79875.85823648]\n",
      " [75887.72047577]]\n"
     ]
    }
   ],
   "source": [
    "#create and fit the model for prediction\n",
    "lin = LinearRegression()\n",
    "lin.fit(x_train, y_train)\n",
    "\n",
    "predictions = np.round(lin.predict(x_train),1)\n",
    "\n",
    "\n",
    "y_pred = lin.predict(x_test)\n",
    "\n",
    "print(y_pred)"
   ]
  },
  {
   "cell_type": "code",
   "execution_count": 30,
   "id": "b3e2cfda",
   "metadata": {},
   "outputs": [
    {
     "name": "stdout",
     "output_type": "stream",
     "text": [
      "R^2: 0.86\n"
     ]
    }
   ],
   "source": [
    "print(\"R^2: {:.2f}\".format(lin.score(x_train, y_train)))\n"
   ]
  },
  {
   "cell_type": "code",
   "execution_count": 38,
   "id": "d9501976",
   "metadata": {},
   "outputs": [
    {
     "name": "stdout",
     "output_type": "stream",
     "text": [
      "R^2: 0.86\n",
      "RMSE: 1169.34\n",
      "MAE: 856.53\n"
     ]
    }
   ],
   "source": [
    "# call the model \n",
    "model = LinearRegression()\n",
    "\n",
    "# fit the model\n",
    "model.fit(x_train, y_train)\n",
    "\n",
    "# # calculate the score\n",
    "print(\"R^2: {:.2f}\".format(model.score(x_train, y_train)))\n",
    "\n",
    "# make the predictions on train data\n",
    "predictions = np.round(model.predict(x_train),1)\n",
    "\n",
    "# accuracy metrics\n",
    "print(\"RMSE: {:.2f}\".format(mean_squared_error(y_train, predictions, squared = False)))\n",
    "print(\"MAE: {:.2f}\".format(mean_absolute_error(y_train, predictions))) # the 2f means that its is for 2 decimal"
   ]
  },
  {
   "cell_type": "code",
   "execution_count": 39,
   "id": "3999c50e",
   "metadata": {},
   "outputs": [
    {
     "name": "stderr",
     "output_type": "stream",
     "text": [
      "C:\\Users\\miche\\anaconda3\\lib\\site-packages\\sklearn\\base.py:450: UserWarning: X does not have valid feature names, but LinearRegression was fitted with feature names\n",
      "  warnings.warn(\n"
     ]
    },
    {
     "data": {
      "text/plain": [
       "array([[73468.66019376]])"
      ]
     },
     "execution_count": 39,
     "metadata": {},
     "output_type": "execute_result"
    }
   ],
   "source": [
    "#predict using x-values\n",
    "lin.predict([[8.75, 50.04, 61.13]])"
   ]
  },
  {
   "cell_type": "markdown",
   "id": "5bf4918c",
   "metadata": {},
   "source": [
    "#### Train data predictions"
   ]
  },
  {
   "cell_type": "code",
   "execution_count": 47,
   "id": "ab675c70",
   "metadata": {},
   "outputs": [
    {
     "ename": "ValueError",
     "evalue": "Per-column arrays must each be 1-dimensional",
     "output_type": "error",
     "traceback": [
      "\u001b[1;31m---------------------------------------------------------------------------\u001b[0m",
      "\u001b[1;31mValueError\u001b[0m                                Traceback (most recent call last)",
      "Input \u001b[1;32mIn [47]\u001b[0m, in \u001b[0;36m<cell line: 2>\u001b[1;34m()\u001b[0m\n\u001b[0;32m      1\u001b[0m \u001b[38;5;66;03m# combine the actual data and predictions\u001b[39;00m\n\u001b[1;32m----> 2\u001b[0m output \u001b[38;5;241m=\u001b[39m \u001b[43mpd\u001b[49m\u001b[38;5;241;43m.\u001b[39;49m\u001b[43mDataFrame\u001b[49m\u001b[43m(\u001b[49m\u001b[43m{\u001b[49m\u001b[38;5;124;43m\"\u001b[39;49m\u001b[38;5;124;43mactual\u001b[39;49m\u001b[38;5;124;43m\"\u001b[39;49m\u001b[43m:\u001b[49m\u001b[43m \u001b[49m\u001b[43my_train\u001b[49m\u001b[43m,\u001b[49m\u001b[43m \u001b[49m\n\u001b[0;32m      3\u001b[0m \u001b[43m                       \u001b[49m\u001b[38;5;124;43m\"\u001b[39;49m\u001b[38;5;124;43mpredictions\u001b[39;49m\u001b[38;5;124;43m\"\u001b[39;49m\u001b[43m:\u001b[49m\u001b[43m \u001b[49m\u001b[43mpredictions\u001b[49m\u001b[43m}\u001b[49m\u001b[43m)\u001b[49m\n\u001b[0;32m      5\u001b[0m \u001b[38;5;66;03m# sort the index\u001b[39;00m\n\u001b[0;32m      6\u001b[0m output \u001b[38;5;241m=\u001b[39m output\u001b[38;5;241m.\u001b[39msort_index()\n",
      "File \u001b[1;32m~\\anaconda3\\lib\\site-packages\\pandas\\core\\frame.py:636\u001b[0m, in \u001b[0;36mDataFrame.__init__\u001b[1;34m(self, data, index, columns, dtype, copy)\u001b[0m\n\u001b[0;32m    630\u001b[0m     mgr \u001b[38;5;241m=\u001b[39m \u001b[38;5;28mself\u001b[39m\u001b[38;5;241m.\u001b[39m_init_mgr(\n\u001b[0;32m    631\u001b[0m         data, axes\u001b[38;5;241m=\u001b[39m{\u001b[38;5;124m\"\u001b[39m\u001b[38;5;124mindex\u001b[39m\u001b[38;5;124m\"\u001b[39m: index, \u001b[38;5;124m\"\u001b[39m\u001b[38;5;124mcolumns\u001b[39m\u001b[38;5;124m\"\u001b[39m: columns}, dtype\u001b[38;5;241m=\u001b[39mdtype, copy\u001b[38;5;241m=\u001b[39mcopy\n\u001b[0;32m    632\u001b[0m     )\n\u001b[0;32m    634\u001b[0m \u001b[38;5;28;01melif\u001b[39;00m \u001b[38;5;28misinstance\u001b[39m(data, \u001b[38;5;28mdict\u001b[39m):\n\u001b[0;32m    635\u001b[0m     \u001b[38;5;66;03m# GH#38939 de facto copy defaults to False only in non-dict cases\u001b[39;00m\n\u001b[1;32m--> 636\u001b[0m     mgr \u001b[38;5;241m=\u001b[39m \u001b[43mdict_to_mgr\u001b[49m\u001b[43m(\u001b[49m\u001b[43mdata\u001b[49m\u001b[43m,\u001b[49m\u001b[43m \u001b[49m\u001b[43mindex\u001b[49m\u001b[43m,\u001b[49m\u001b[43m \u001b[49m\u001b[43mcolumns\u001b[49m\u001b[43m,\u001b[49m\u001b[43m \u001b[49m\u001b[43mdtype\u001b[49m\u001b[38;5;241;43m=\u001b[39;49m\u001b[43mdtype\u001b[49m\u001b[43m,\u001b[49m\u001b[43m \u001b[49m\u001b[43mcopy\u001b[49m\u001b[38;5;241;43m=\u001b[39;49m\u001b[43mcopy\u001b[49m\u001b[43m,\u001b[49m\u001b[43m \u001b[49m\u001b[43mtyp\u001b[49m\u001b[38;5;241;43m=\u001b[39;49m\u001b[43mmanager\u001b[49m\u001b[43m)\u001b[49m\n\u001b[0;32m    637\u001b[0m \u001b[38;5;28;01melif\u001b[39;00m \u001b[38;5;28misinstance\u001b[39m(data, ma\u001b[38;5;241m.\u001b[39mMaskedArray):\n\u001b[0;32m    638\u001b[0m     \u001b[38;5;28;01mimport\u001b[39;00m \u001b[38;5;21;01mnumpy\u001b[39;00m\u001b[38;5;21;01m.\u001b[39;00m\u001b[38;5;21;01mma\u001b[39;00m\u001b[38;5;21;01m.\u001b[39;00m\u001b[38;5;21;01mmrecords\u001b[39;00m \u001b[38;5;28;01mas\u001b[39;00m \u001b[38;5;21;01mmrecords\u001b[39;00m\n",
      "File \u001b[1;32m~\\anaconda3\\lib\\site-packages\\pandas\\core\\internals\\construction.py:502\u001b[0m, in \u001b[0;36mdict_to_mgr\u001b[1;34m(data, index, columns, dtype, typ, copy)\u001b[0m\n\u001b[0;32m    494\u001b[0m     arrays \u001b[38;5;241m=\u001b[39m [\n\u001b[0;32m    495\u001b[0m         x\n\u001b[0;32m    496\u001b[0m         \u001b[38;5;28;01mif\u001b[39;00m \u001b[38;5;129;01mnot\u001b[39;00m \u001b[38;5;28mhasattr\u001b[39m(x, \u001b[38;5;124m\"\u001b[39m\u001b[38;5;124mdtype\u001b[39m\u001b[38;5;124m\"\u001b[39m) \u001b[38;5;129;01mor\u001b[39;00m \u001b[38;5;129;01mnot\u001b[39;00m \u001b[38;5;28misinstance\u001b[39m(x\u001b[38;5;241m.\u001b[39mdtype, ExtensionDtype)\n\u001b[0;32m    497\u001b[0m         \u001b[38;5;28;01melse\u001b[39;00m x\u001b[38;5;241m.\u001b[39mcopy()\n\u001b[0;32m    498\u001b[0m         \u001b[38;5;28;01mfor\u001b[39;00m x \u001b[38;5;129;01min\u001b[39;00m arrays\n\u001b[0;32m    499\u001b[0m     ]\n\u001b[0;32m    500\u001b[0m     \u001b[38;5;66;03m# TODO: can we get rid of the dt64tz special case above?\u001b[39;00m\n\u001b[1;32m--> 502\u001b[0m \u001b[38;5;28;01mreturn\u001b[39;00m \u001b[43marrays_to_mgr\u001b[49m\u001b[43m(\u001b[49m\u001b[43marrays\u001b[49m\u001b[43m,\u001b[49m\u001b[43m \u001b[49m\u001b[43mcolumns\u001b[49m\u001b[43m,\u001b[49m\u001b[43m \u001b[49m\u001b[43mindex\u001b[49m\u001b[43m,\u001b[49m\u001b[43m \u001b[49m\u001b[43mdtype\u001b[49m\u001b[38;5;241;43m=\u001b[39;49m\u001b[43mdtype\u001b[49m\u001b[43m,\u001b[49m\u001b[43m \u001b[49m\u001b[43mtyp\u001b[49m\u001b[38;5;241;43m=\u001b[39;49m\u001b[43mtyp\u001b[49m\u001b[43m,\u001b[49m\u001b[43m \u001b[49m\u001b[43mconsolidate\u001b[49m\u001b[38;5;241;43m=\u001b[39;49m\u001b[43mcopy\u001b[49m\u001b[43m)\u001b[49m\n",
      "File \u001b[1;32m~\\anaconda3\\lib\\site-packages\\pandas\\core\\internals\\construction.py:120\u001b[0m, in \u001b[0;36marrays_to_mgr\u001b[1;34m(arrays, columns, index, dtype, verify_integrity, typ, consolidate)\u001b[0m\n\u001b[0;32m    117\u001b[0m \u001b[38;5;28;01mif\u001b[39;00m verify_integrity:\n\u001b[0;32m    118\u001b[0m     \u001b[38;5;66;03m# figure out the index, if necessary\u001b[39;00m\n\u001b[0;32m    119\u001b[0m     \u001b[38;5;28;01mif\u001b[39;00m index \u001b[38;5;129;01mis\u001b[39;00m \u001b[38;5;28;01mNone\u001b[39;00m:\n\u001b[1;32m--> 120\u001b[0m         index \u001b[38;5;241m=\u001b[39m \u001b[43m_extract_index\u001b[49m\u001b[43m(\u001b[49m\u001b[43marrays\u001b[49m\u001b[43m)\u001b[49m\n\u001b[0;32m    121\u001b[0m     \u001b[38;5;28;01melse\u001b[39;00m:\n\u001b[0;32m    122\u001b[0m         index \u001b[38;5;241m=\u001b[39m ensure_index(index)\n",
      "File \u001b[1;32m~\\anaconda3\\lib\\site-packages\\pandas\\core\\internals\\construction.py:661\u001b[0m, in \u001b[0;36m_extract_index\u001b[1;34m(data)\u001b[0m\n\u001b[0;32m    659\u001b[0m         raw_lengths\u001b[38;5;241m.\u001b[39mappend(\u001b[38;5;28mlen\u001b[39m(val))\n\u001b[0;32m    660\u001b[0m     \u001b[38;5;28;01melif\u001b[39;00m \u001b[38;5;28misinstance\u001b[39m(val, np\u001b[38;5;241m.\u001b[39mndarray) \u001b[38;5;129;01mand\u001b[39;00m val\u001b[38;5;241m.\u001b[39mndim \u001b[38;5;241m>\u001b[39m \u001b[38;5;241m1\u001b[39m:\n\u001b[1;32m--> 661\u001b[0m         \u001b[38;5;28;01mraise\u001b[39;00m \u001b[38;5;167;01mValueError\u001b[39;00m(\u001b[38;5;124m\"\u001b[39m\u001b[38;5;124mPer-column arrays must each be 1-dimensional\u001b[39m\u001b[38;5;124m\"\u001b[39m)\n\u001b[0;32m    663\u001b[0m \u001b[38;5;28;01mif\u001b[39;00m \u001b[38;5;129;01mnot\u001b[39;00m indexes \u001b[38;5;129;01mand\u001b[39;00m \u001b[38;5;129;01mnot\u001b[39;00m raw_lengths:\n\u001b[0;32m    664\u001b[0m     \u001b[38;5;28;01mraise\u001b[39;00m \u001b[38;5;167;01mValueError\u001b[39;00m(\u001b[38;5;124m\"\u001b[39m\u001b[38;5;124mIf using all scalar values, you must pass an index\u001b[39m\u001b[38;5;124m\"\u001b[39m)\n",
      "\u001b[1;31mValueError\u001b[0m: Per-column arrays must each be 1-dimensional"
     ]
    }
   ],
   "source": [
    "# combine the actual data and predictions\n",
    "output = pd.DataFrame({\"actual\": y_train, \n",
    "                       \"predictions\": predictions})\n",
    "\n",
    "# sort the index\n",
    "output = output.sort_index()\n",
    "\n",
    "# new output\n",
    "output.head()"
   ]
  },
  {
   "cell_type": "code",
   "execution_count": 42,
   "id": "d28f0e7a",
   "metadata": {},
   "outputs": [
    {
     "ename": "NameError",
     "evalue": "name 'output' is not defined",
     "output_type": "error",
     "traceback": [
      "\u001b[1;31m---------------------------------------------------------------------------\u001b[0m",
      "\u001b[1;31mNameError\u001b[0m                                 Traceback (most recent call last)",
      "Input \u001b[1;32mIn [42]\u001b[0m, in \u001b[0;36m<cell line: 1>\u001b[1;34m()\u001b[0m\n\u001b[1;32m----> 1\u001b[0m \u001b[43moutput\u001b[49m\u001b[38;5;241m.\u001b[39mshape\n",
      "\u001b[1;31mNameError\u001b[0m: name 'output' is not defined"
     ]
    }
   ],
   "source": [
    "output.shape"
   ]
  },
  {
   "cell_type": "code",
   "execution_count": null,
   "id": "33bd429c",
   "metadata": {},
   "outputs": [],
   "source": []
  },
  {
   "cell_type": "code",
   "execution_count": null,
   "id": "d69142b0",
   "metadata": {},
   "outputs": [],
   "source": []
  },
  {
   "cell_type": "code",
   "execution_count": null,
   "id": "9892d2ae",
   "metadata": {},
   "outputs": [],
   "source": []
  },
  {
   "cell_type": "code",
   "execution_count": null,
   "id": "a837bc78",
   "metadata": {},
   "outputs": [],
   "source": []
  },
  {
   "cell_type": "code",
   "execution_count": null,
   "id": "3f545844",
   "metadata": {},
   "outputs": [],
   "source": []
  },
  {
   "cell_type": "code",
   "execution_count": null,
   "id": "40f4299b",
   "metadata": {},
   "outputs": [],
   "source": []
  },
  {
   "cell_type": "code",
   "execution_count": null,
   "id": "1cc6f7c9",
   "metadata": {},
   "outputs": [],
   "source": []
  },
  {
   "cell_type": "code",
   "execution_count": null,
   "id": "d85670fc",
   "metadata": {},
   "outputs": [],
   "source": []
  },
  {
   "cell_type": "code",
   "execution_count": null,
   "id": "65630462",
   "metadata": {},
   "outputs": [],
   "source": []
  },
  {
   "cell_type": "code",
   "execution_count": null,
   "id": "4b112d43",
   "metadata": {},
   "outputs": [],
   "source": []
  },
  {
   "cell_type": "code",
   "execution_count": null,
   "id": "495d1a97",
   "metadata": {},
   "outputs": [],
   "source": []
  },
  {
   "cell_type": "code",
   "execution_count": null,
   "id": "3d157f96",
   "metadata": {},
   "outputs": [],
   "source": []
  },
  {
   "cell_type": "code",
   "execution_count": 109,
   "id": "af5032fb",
   "metadata": {},
   "outputs": [
    {
     "data": {
      "text/plain": [
       "(24, 6)"
      ]
     },
     "execution_count": 109,
     "metadata": {},
     "output_type": "execute_result"
    }
   ],
   "source": [
    "df.shape"
   ]
  },
  {
   "cell_type": "code",
   "execution_count": 35,
   "id": "1481fd38",
   "metadata": {},
   "outputs": [
    {
     "ename": "NameError",
     "evalue": "name 'test_predictions' is not defined",
     "output_type": "error",
     "traceback": [
      "\u001b[1;31m---------------------------------------------------------------------------\u001b[0m",
      "\u001b[1;31mNameError\u001b[0m                                 Traceback (most recent call last)",
      "Input \u001b[1;32mIn [35]\u001b[0m, in \u001b[0;36m<cell line: 3>\u001b[1;34m()\u001b[0m\n\u001b[0;32m      1\u001b[0m \u001b[38;5;66;03m# creating a df with test data and predictions\u001b[39;00m\n\u001b[0;32m      3\u001b[0m test_output \u001b[38;5;241m=\u001b[39m pd\u001b[38;5;241m.\u001b[39mDataFrame({\u001b[38;5;124m\"\u001b[39m\u001b[38;5;124mactual\u001b[39m\u001b[38;5;124m\"\u001b[39m: y_test, \n\u001b[1;32m----> 4\u001b[0m                            \u001b[38;5;124m\"\u001b[39m\u001b[38;5;124mtest_predictions\u001b[39m\u001b[38;5;124m\"\u001b[39m: \u001b[43mtest_predictions\u001b[49m})\n\u001b[0;32m      6\u001b[0m \u001b[38;5;66;03m# sorting index\u001b[39;00m\n\u001b[0;32m      7\u001b[0m test_output \u001b[38;5;241m=\u001b[39m test_output\u001b[38;5;241m.\u001b[39msort_index()\n",
      "\u001b[1;31mNameError\u001b[0m: name 'test_predictions' is not defined"
     ]
    }
   ],
   "source": [
    "# creating a df with test data and predictions\n",
    "\n",
    "test_output = pd.DataFrame({\"actual\": y_test, \n",
    "                           \"test_predictions\": test_predictions})\n",
    "\n",
    "# sorting index\n",
    "test_output = test_output.sort_index()\n",
    "test_output.head()"
   ]
  },
  {
   "cell_type": "markdown",
   "id": "261bb934",
   "metadata": {},
   "source": [
    "#####  units sold is close to the actual value "
   ]
  },
  {
   "cell_type": "code",
   "execution_count": 34,
   "id": "7e09d87b",
   "metadata": {},
   "outputs": [
    {
     "ename": "ValueError",
     "evalue": "Per-column arrays must each be 1-dimensional",
     "output_type": "error",
     "traceback": [
      "\u001b[1;31m---------------------------------------------------------------------------\u001b[0m",
      "\u001b[1;31mValueError\u001b[0m                                Traceback (most recent call last)",
      "Input \u001b[1;32mIn [34]\u001b[0m, in \u001b[0;36m<cell line: 3>\u001b[1;34m()\u001b[0m\n\u001b[0;32m      1\u001b[0m \u001b[38;5;66;03m#train data predictions: combine the actual data and predictions\u001b[39;00m\n\u001b[1;32m----> 3\u001b[0m output \u001b[38;5;241m=\u001b[39m \u001b[43mpd\u001b[49m\u001b[38;5;241;43m.\u001b[39;49m\u001b[43mDataFrame\u001b[49m\u001b[43m(\u001b[49m\u001b[43m{\u001b[49m\u001b[38;5;124;43m\"\u001b[39;49m\u001b[38;5;124;43mactual\u001b[39;49m\u001b[38;5;124;43m\"\u001b[39;49m\u001b[43m:\u001b[49m\u001b[43m \u001b[49m\u001b[43my_train\u001b[49m\u001b[43m,\u001b[49m\u001b[43m \u001b[49m\n\u001b[0;32m      4\u001b[0m \u001b[43m                       \u001b[49m\u001b[38;5;124;43m\"\u001b[39;49m\u001b[38;5;124;43mpredictions\u001b[39;49m\u001b[38;5;124;43m\"\u001b[39;49m\u001b[43m:\u001b[49m\u001b[43m \u001b[49m\u001b[43mpredictions\u001b[49m\u001b[43m}\u001b[49m\u001b[43m)\u001b[49m\n\u001b[0;32m      6\u001b[0m \u001b[38;5;66;03m# sort the index\u001b[39;00m\n\u001b[0;32m      7\u001b[0m output \u001b[38;5;241m=\u001b[39m output\u001b[38;5;241m.\u001b[39msort_index()\n",
      "File \u001b[1;32m~\\anaconda3\\lib\\site-packages\\pandas\\core\\frame.py:636\u001b[0m, in \u001b[0;36mDataFrame.__init__\u001b[1;34m(self, data, index, columns, dtype, copy)\u001b[0m\n\u001b[0;32m    630\u001b[0m     mgr \u001b[38;5;241m=\u001b[39m \u001b[38;5;28mself\u001b[39m\u001b[38;5;241m.\u001b[39m_init_mgr(\n\u001b[0;32m    631\u001b[0m         data, axes\u001b[38;5;241m=\u001b[39m{\u001b[38;5;124m\"\u001b[39m\u001b[38;5;124mindex\u001b[39m\u001b[38;5;124m\"\u001b[39m: index, \u001b[38;5;124m\"\u001b[39m\u001b[38;5;124mcolumns\u001b[39m\u001b[38;5;124m\"\u001b[39m: columns}, dtype\u001b[38;5;241m=\u001b[39mdtype, copy\u001b[38;5;241m=\u001b[39mcopy\n\u001b[0;32m    632\u001b[0m     )\n\u001b[0;32m    634\u001b[0m \u001b[38;5;28;01melif\u001b[39;00m \u001b[38;5;28misinstance\u001b[39m(data, \u001b[38;5;28mdict\u001b[39m):\n\u001b[0;32m    635\u001b[0m     \u001b[38;5;66;03m# GH#38939 de facto copy defaults to False only in non-dict cases\u001b[39;00m\n\u001b[1;32m--> 636\u001b[0m     mgr \u001b[38;5;241m=\u001b[39m \u001b[43mdict_to_mgr\u001b[49m\u001b[43m(\u001b[49m\u001b[43mdata\u001b[49m\u001b[43m,\u001b[49m\u001b[43m \u001b[49m\u001b[43mindex\u001b[49m\u001b[43m,\u001b[49m\u001b[43m \u001b[49m\u001b[43mcolumns\u001b[49m\u001b[43m,\u001b[49m\u001b[43m \u001b[49m\u001b[43mdtype\u001b[49m\u001b[38;5;241;43m=\u001b[39;49m\u001b[43mdtype\u001b[49m\u001b[43m,\u001b[49m\u001b[43m \u001b[49m\u001b[43mcopy\u001b[49m\u001b[38;5;241;43m=\u001b[39;49m\u001b[43mcopy\u001b[49m\u001b[43m,\u001b[49m\u001b[43m \u001b[49m\u001b[43mtyp\u001b[49m\u001b[38;5;241;43m=\u001b[39;49m\u001b[43mmanager\u001b[49m\u001b[43m)\u001b[49m\n\u001b[0;32m    637\u001b[0m \u001b[38;5;28;01melif\u001b[39;00m \u001b[38;5;28misinstance\u001b[39m(data, ma\u001b[38;5;241m.\u001b[39mMaskedArray):\n\u001b[0;32m    638\u001b[0m     \u001b[38;5;28;01mimport\u001b[39;00m \u001b[38;5;21;01mnumpy\u001b[39;00m\u001b[38;5;21;01m.\u001b[39;00m\u001b[38;5;21;01mma\u001b[39;00m\u001b[38;5;21;01m.\u001b[39;00m\u001b[38;5;21;01mmrecords\u001b[39;00m \u001b[38;5;28;01mas\u001b[39;00m \u001b[38;5;21;01mmrecords\u001b[39;00m\n",
      "File \u001b[1;32m~\\anaconda3\\lib\\site-packages\\pandas\\core\\internals\\construction.py:502\u001b[0m, in \u001b[0;36mdict_to_mgr\u001b[1;34m(data, index, columns, dtype, typ, copy)\u001b[0m\n\u001b[0;32m    494\u001b[0m     arrays \u001b[38;5;241m=\u001b[39m [\n\u001b[0;32m    495\u001b[0m         x\n\u001b[0;32m    496\u001b[0m         \u001b[38;5;28;01mif\u001b[39;00m \u001b[38;5;129;01mnot\u001b[39;00m \u001b[38;5;28mhasattr\u001b[39m(x, \u001b[38;5;124m\"\u001b[39m\u001b[38;5;124mdtype\u001b[39m\u001b[38;5;124m\"\u001b[39m) \u001b[38;5;129;01mor\u001b[39;00m \u001b[38;5;129;01mnot\u001b[39;00m \u001b[38;5;28misinstance\u001b[39m(x\u001b[38;5;241m.\u001b[39mdtype, ExtensionDtype)\n\u001b[0;32m    497\u001b[0m         \u001b[38;5;28;01melse\u001b[39;00m x\u001b[38;5;241m.\u001b[39mcopy()\n\u001b[0;32m    498\u001b[0m         \u001b[38;5;28;01mfor\u001b[39;00m x \u001b[38;5;129;01min\u001b[39;00m arrays\n\u001b[0;32m    499\u001b[0m     ]\n\u001b[0;32m    500\u001b[0m     \u001b[38;5;66;03m# TODO: can we get rid of the dt64tz special case above?\u001b[39;00m\n\u001b[1;32m--> 502\u001b[0m \u001b[38;5;28;01mreturn\u001b[39;00m \u001b[43marrays_to_mgr\u001b[49m\u001b[43m(\u001b[49m\u001b[43marrays\u001b[49m\u001b[43m,\u001b[49m\u001b[43m \u001b[49m\u001b[43mcolumns\u001b[49m\u001b[43m,\u001b[49m\u001b[43m \u001b[49m\u001b[43mindex\u001b[49m\u001b[43m,\u001b[49m\u001b[43m \u001b[49m\u001b[43mdtype\u001b[49m\u001b[38;5;241;43m=\u001b[39;49m\u001b[43mdtype\u001b[49m\u001b[43m,\u001b[49m\u001b[43m \u001b[49m\u001b[43mtyp\u001b[49m\u001b[38;5;241;43m=\u001b[39;49m\u001b[43mtyp\u001b[49m\u001b[43m,\u001b[49m\u001b[43m \u001b[49m\u001b[43mconsolidate\u001b[49m\u001b[38;5;241;43m=\u001b[39;49m\u001b[43mcopy\u001b[49m\u001b[43m)\u001b[49m\n",
      "File \u001b[1;32m~\\anaconda3\\lib\\site-packages\\pandas\\core\\internals\\construction.py:120\u001b[0m, in \u001b[0;36marrays_to_mgr\u001b[1;34m(arrays, columns, index, dtype, verify_integrity, typ, consolidate)\u001b[0m\n\u001b[0;32m    117\u001b[0m \u001b[38;5;28;01mif\u001b[39;00m verify_integrity:\n\u001b[0;32m    118\u001b[0m     \u001b[38;5;66;03m# figure out the index, if necessary\u001b[39;00m\n\u001b[0;32m    119\u001b[0m     \u001b[38;5;28;01mif\u001b[39;00m index \u001b[38;5;129;01mis\u001b[39;00m \u001b[38;5;28;01mNone\u001b[39;00m:\n\u001b[1;32m--> 120\u001b[0m         index \u001b[38;5;241m=\u001b[39m \u001b[43m_extract_index\u001b[49m\u001b[43m(\u001b[49m\u001b[43marrays\u001b[49m\u001b[43m)\u001b[49m\n\u001b[0;32m    121\u001b[0m     \u001b[38;5;28;01melse\u001b[39;00m:\n\u001b[0;32m    122\u001b[0m         index \u001b[38;5;241m=\u001b[39m ensure_index(index)\n",
      "File \u001b[1;32m~\\anaconda3\\lib\\site-packages\\pandas\\core\\internals\\construction.py:661\u001b[0m, in \u001b[0;36m_extract_index\u001b[1;34m(data)\u001b[0m\n\u001b[0;32m    659\u001b[0m         raw_lengths\u001b[38;5;241m.\u001b[39mappend(\u001b[38;5;28mlen\u001b[39m(val))\n\u001b[0;32m    660\u001b[0m     \u001b[38;5;28;01melif\u001b[39;00m \u001b[38;5;28misinstance\u001b[39m(val, np\u001b[38;5;241m.\u001b[39mndarray) \u001b[38;5;129;01mand\u001b[39;00m val\u001b[38;5;241m.\u001b[39mndim \u001b[38;5;241m>\u001b[39m \u001b[38;5;241m1\u001b[39m:\n\u001b[1;32m--> 661\u001b[0m         \u001b[38;5;28;01mraise\u001b[39;00m \u001b[38;5;167;01mValueError\u001b[39;00m(\u001b[38;5;124m\"\u001b[39m\u001b[38;5;124mPer-column arrays must each be 1-dimensional\u001b[39m\u001b[38;5;124m\"\u001b[39m)\n\u001b[0;32m    663\u001b[0m \u001b[38;5;28;01mif\u001b[39;00m \u001b[38;5;129;01mnot\u001b[39;00m indexes \u001b[38;5;129;01mand\u001b[39;00m \u001b[38;5;129;01mnot\u001b[39;00m raw_lengths:\n\u001b[0;32m    664\u001b[0m     \u001b[38;5;28;01mraise\u001b[39;00m \u001b[38;5;167;01mValueError\u001b[39;00m(\u001b[38;5;124m\"\u001b[39m\u001b[38;5;124mIf using all scalar values, you must pass an index\u001b[39m\u001b[38;5;124m\"\u001b[39m)\n",
      "\u001b[1;31mValueError\u001b[0m: Per-column arrays must each be 1-dimensional"
     ]
    }
   ],
   "source": [
    "#train data predictions: combine the actual data and predictions\n",
    "\n",
    "output = pd.DataFrame({\"actual\": y_train, \n",
    "                       \"predictions\": predictions})\n",
    "\n",
    "# sort the index\n",
    "output = output.sort_index()\n",
    "\n",
    "# new output\n",
    "output.head()"
   ]
  },
  {
   "cell_type": "code",
   "execution_count": 70,
   "id": "31b6a654",
   "metadata": {},
   "outputs": [
    {
     "data": {
      "text/plain": [
       "-1.7121974318061657"
      ]
     },
     "execution_count": 70,
     "metadata": {},
     "output_type": "execute_result"
    }
   ],
   "source": [
    "#evaluate the model thru R2 score\n",
    "from sklearn.metrics import r2_score\n",
    "r2_score(y_test, y_pred)"
   ]
  },
  {
   "cell_type": "code",
   "execution_count": 71,
   "id": "965c9e06",
   "metadata": {},
   "outputs": [
    {
     "data": {
      "image/png": "[encoded data removed]",
      "text/plain": [
       "<Figure size 360x216 with 1 Axes>"
      ]
     },
     "metadata": {
      "needs_background": "light"
     },
     "output_type": "display_data"
    }
   ],
   "source": [
    "#plot the results\n",
    "plt.figure(figsize = (5, 3))\n",
    "plt.xlabel('Actual')\n",
    "plt.ylabel('Predicted')\n",
    "plt.title('Predicted vs Actual')\n",
    "plt.scatter(y_test, y_pred);"
   ]
  },
  {
   "cell_type": "code",
   "execution_count": 72,
   "id": "bd0390fb",
   "metadata": {},
   "outputs": [
    {
     "data": {
      "text/plain": [
       "((18, 3), (18, 1))"
      ]
     },
     "execution_count": 72,
     "metadata": {},
     "output_type": "execute_result"
    }
   ],
   "source": [
    "x_train.shape, y_train.shape"
   ]
  },
  {
   "cell_type": "code",
   "execution_count": 73,
   "id": "c5076279",
   "metadata": {},
   "outputs": [
    {
     "data": {
      "text/html": [
       "<div>\n",
       "<style scoped>\n",
       "    .dataframe tbody tr th:only-of-type {\n",
       "        vertical-align: middle;\n",
       "    }\n",
       "\n",
       "    .dataframe tbody tr th {\n",
       "        vertical-align: top;\n",
       "    }\n",
       "\n",
       "    .dataframe thead th {\n",
       "        text-align: right;\n",
       "    }\n",
       "</style>\n",
       "<table border=\"1\" class=\"dataframe\">\n",
       "  <thead>\n",
       "    <tr style=\"text-align: right;\">\n",
       "      <th></th>\n",
       "      <th>dollar_price</th>\n",
       "      <th>advertisment</th>\n",
       "      <th>promotions</th>\n",
       "    </tr>\n",
       "  </thead>\n",
       "  <tbody>\n",
       "    <tr>\n",
       "      <th>14</th>\n",
       "      <td>8.00</td>\n",
       "      <td>50.04</td>\n",
       "      <td>59.89</td>\n",
       "    </tr>\n",
       "    <tr>\n",
       "      <th>20</th>\n",
       "      <td>8.50</td>\n",
       "      <td>48.00</td>\n",
       "      <td>59.00</td>\n",
       "    </tr>\n",
       "    <tr>\n",
       "      <th>22</th>\n",
       "      <td>7.99</td>\n",
       "      <td>48.70</td>\n",
       "      <td>58.00</td>\n",
       "    </tr>\n",
       "    <tr>\n",
       "      <th>8</th>\n",
       "      <td>7.25</td>\n",
       "      <td>48.24</td>\n",
       "      <td>59.90</td>\n",
       "    </tr>\n",
       "    <tr>\n",
       "      <th>11</th>\n",
       "      <td>8.10</td>\n",
       "      <td>51.49</td>\n",
       "      <td>59.77</td>\n",
       "    </tr>\n",
       "    <tr>\n",
       "      <th>16</th>\n",
       "      <td>8.10</td>\n",
       "      <td>51.62</td>\n",
       "      <td>60.51</td>\n",
       "    </tr>\n",
       "    <tr>\n",
       "      <th>23</th>\n",
       "      <td>8.25</td>\n",
       "      <td>50.00</td>\n",
       "      <td>60.50</td>\n",
       "    </tr>\n",
       "    <tr>\n",
       "      <th>9</th>\n",
       "      <td>8.70</td>\n",
       "      <td>50.19</td>\n",
       "      <td>59.68</td>\n",
       "    </tr>\n",
       "    <tr>\n",
       "      <th>4</th>\n",
       "      <td>7.40</td>\n",
       "      <td>51.25</td>\n",
       "      <td>59.71</td>\n",
       "    </tr>\n",
       "    <tr>\n",
       "      <th>12</th>\n",
       "      <td>8.40</td>\n",
       "      <td>50.10</td>\n",
       "      <td>59.29</td>\n",
       "    </tr>\n",
       "    <tr>\n",
       "      <th>13</th>\n",
       "      <td>7.40</td>\n",
       "      <td>49.24</td>\n",
       "      <td>60.40</td>\n",
       "    </tr>\n",
       "    <tr>\n",
       "      <th>18</th>\n",
       "      <td>8.99</td>\n",
       "      <td>48.60</td>\n",
       "      <td>60.09</td>\n",
       "    </tr>\n",
       "    <tr>\n",
       "      <th>5</th>\n",
       "      <td>8.50</td>\n",
       "      <td>50.65</td>\n",
       "      <td>59.88</td>\n",
       "    </tr>\n",
       "    <tr>\n",
       "      <th>2</th>\n",
       "      <td>7.50</td>\n",
       "      <td>50.14</td>\n",
       "      <td>59.16</td>\n",
       "    </tr>\n",
       "    <tr>\n",
       "      <th>1</th>\n",
       "      <td>8.99</td>\n",
       "      <td>50.74</td>\n",
       "      <td>60.19</td>\n",
       "    </tr>\n",
       "    <tr>\n",
       "      <th>7</th>\n",
       "      <td>7.90</td>\n",
       "      <td>50.15</td>\n",
       "      <td>60.08</td>\n",
       "    </tr>\n",
       "    <tr>\n",
       "      <th>3</th>\n",
       "      <td>7.25</td>\n",
       "      <td>50.27</td>\n",
       "      <td>60.38</td>\n",
       "    </tr>\n",
       "    <tr>\n",
       "      <th>10</th>\n",
       "      <td>8.40</td>\n",
       "      <td>51.11</td>\n",
       "      <td>59.83</td>\n",
       "    </tr>\n",
       "  </tbody>\n",
       "</table>\n",
       "</div>"
      ],
      "text/plain": [
       "    dollar_price  advertisment  promotions\n",
       "14          8.00         50.04       59.89\n",
       "20          8.50         48.00       59.00\n",
       "22          7.99         48.70       58.00\n",
       "8           7.25         48.24       59.90\n",
       "11          8.10         51.49       59.77\n",
       "16          8.10         51.62       60.51\n",
       "23          8.25         50.00       60.50\n",
       "9           8.70         50.19       59.68\n",
       "4           7.40         51.25       59.71\n",
       "12          8.40         50.10       59.29\n",
       "13          7.40         49.24       60.40\n",
       "18          8.99         48.60       60.09\n",
       "5           8.50         50.65       59.88\n",
       "2           7.50         50.14       59.16\n",
       "1           8.99         50.74       60.19\n",
       "7           7.90         50.15       60.08\n",
       "3           7.25         50.27       60.38\n",
       "10          8.40         51.11       59.83"
      ]
     },
     "execution_count": 73,
     "metadata": {},
     "output_type": "execute_result"
    }
   ],
   "source": [
    "x_train"
   ]
  },
  {
   "cell_type": "code",
   "execution_count": 74,
   "id": "19f8482b",
   "metadata": {},
   "outputs": [
    {
     "data": {
      "text/plain": [
       "array([[74711.50653914],\n",
       "       [69162.3518287 ],\n",
       "       [70764.17044981],\n",
       "       [77361.73434338],\n",
       "       [75054.09932604],\n",
       "       [76331.41944759],\n",
       "       [74339.54223017],\n",
       "       [70797.66586743],\n",
       "       [78470.73794082],\n",
       "       [71689.38759583],\n",
       "       [78102.03462426],\n",
       "       [68761.08448757],\n",
       "       [72507.57484411],\n",
       "       [76252.8671609 ],\n",
       "       [70486.98497891],\n",
       "       [75622.41843069],\n",
       "       [79614.19758775],\n",
       "       [73291.2223169 ]])"
      ]
     },
     "execution_count": 74,
     "metadata": {},
     "output_type": "execute_result"
    }
   ],
   "source": [
    "#print predicted values of the model by putting values in dataframe\n",
    "#pred_y_df2 = pd.DataFrame({'Actual Value':y_test, 'Predicted Value':y_pred, 'Differennce':y_test - y_pred})\n",
    "#pred_y_df2\n",
    "\n",
    "sklearn_model = LinearRegression().fit(x_train,y_train)\n",
    "sklearn_y_predictions = sklearn_model.predict(x_train)\n",
    "sklearn_y_predictions\n"
   ]
  },
  {
   "cell_type": "code",
   "execution_count": 75,
   "id": "90b8db41",
   "metadata": {},
   "outputs": [
    {
     "data": {
      "text/plain": [
       "(955.1267251977956, 1593751.83973449)"
      ]
     },
     "execution_count": 75,
     "metadata": {},
     "output_type": "execute_result"
    }
   ],
   "source": [
    "from sklearn.metrics import mean_absolute_error, mean_squared_error\n",
    "\n",
    "mean_absolute_error(sklearn_y_predictions, y_train), mean_squared_error(sklearn_y_predictions, y_train)"
   ]
  },
  {
   "cell_type": "code",
   "execution_count": 76,
   "id": "3cb237a9",
   "metadata": {},
   "outputs": [],
   "source": [
    "#predictions_df = pd.DataFrame({'Dollar_price':df['dollar_price'], 'Advertisment':df['advertisment'], 'Promotions':df['promotions'], 'Sklearn Price predictions':sklearn_y_predictions})\n",
    "#predictions_df"
   ]
  },
  {
   "cell_type": "code",
   "execution_count": 77,
   "id": "66617376",
   "metadata": {},
   "outputs": [],
   "source": [
    "#df['sklearn_y_predictions'] =pd.Series('sklearn_y_predictions')\n",
    "#df.insert(6, 'sklearn_y_predictions', True)\n",
    "#df['split'] = df['sklearn_y_predictions'].str[:2]\n",
    "#df.drop('sklearn_y_predictions', inplace=True, axis=1)"
   ]
  },
  {
   "cell_type": "code",
   "execution_count": 78,
   "id": "5a544dd9",
   "metadata": {},
   "outputs": [
    {
     "data": {
      "text/html": [
       "<div>\n",
       "<style scoped>\n",
       "    .dataframe tbody tr th:only-of-type {\n",
       "        vertical-align: middle;\n",
       "    }\n",
       "\n",
       "    .dataframe tbody tr th {\n",
       "        vertical-align: top;\n",
       "    }\n",
       "\n",
       "    .dataframe thead th {\n",
       "        text-align: right;\n",
       "    }\n",
       "</style>\n",
       "<table border=\"1\" class=\"dataframe\">\n",
       "  <thead>\n",
       "    <tr style=\"text-align: right;\">\n",
       "      <th></th>\n",
       "      <th>Year</th>\n",
       "      <th>Month</th>\n",
       "      <th>units_sold</th>\n",
       "      <th>dollar_price</th>\n",
       "      <th>advertisment</th>\n",
       "      <th>promotions</th>\n",
       "    </tr>\n",
       "  </thead>\n",
       "  <tbody>\n",
       "    <tr>\n",
       "      <th>0</th>\n",
       "      <td>2019</td>\n",
       "      <td>1</td>\n",
       "      <td>73959</td>\n",
       "      <td>8.75</td>\n",
       "      <td>50.04</td>\n",
       "      <td>61.13</td>\n",
       "    </tr>\n",
       "    <tr>\n",
       "      <th>1</th>\n",
       "      <td>2019</td>\n",
       "      <td>2</td>\n",
       "      <td>71544</td>\n",
       "      <td>8.99</td>\n",
       "      <td>50.74</td>\n",
       "      <td>60.19</td>\n",
       "    </tr>\n",
       "    <tr>\n",
       "      <th>2</th>\n",
       "      <td>2019</td>\n",
       "      <td>3</td>\n",
       "      <td>78587</td>\n",
       "      <td>7.50</td>\n",
       "      <td>50.14</td>\n",
       "      <td>59.16</td>\n",
       "    </tr>\n",
       "    <tr>\n",
       "      <th>3</th>\n",
       "      <td>2019</td>\n",
       "      <td>4</td>\n",
       "      <td>80364</td>\n",
       "      <td>7.25</td>\n",
       "      <td>50.27</td>\n",
       "      <td>60.38</td>\n",
       "    </tr>\n",
       "    <tr>\n",
       "      <th>4</th>\n",
       "      <td>2019</td>\n",
       "      <td>5</td>\n",
       "      <td>78771</td>\n",
       "      <td>7.40</td>\n",
       "      <td>51.25</td>\n",
       "      <td>59.71</td>\n",
       "    </tr>\n",
       "    <tr>\n",
       "      <th>5</th>\n",
       "      <td>2019</td>\n",
       "      <td>6</td>\n",
       "      <td>71986</td>\n",
       "      <td>8.50</td>\n",
       "      <td>50.65</td>\n",
       "      <td>59.88</td>\n",
       "    </tr>\n",
       "    <tr>\n",
       "      <th>6</th>\n",
       "      <td>2019</td>\n",
       "      <td>7</td>\n",
       "      <td>74885</td>\n",
       "      <td>8.40</td>\n",
       "      <td>50.87</td>\n",
       "      <td>60.14</td>\n",
       "    </tr>\n",
       "    <tr>\n",
       "      <th>7</th>\n",
       "      <td>2019</td>\n",
       "      <td>8</td>\n",
       "      <td>73345</td>\n",
       "      <td>7.90</td>\n",
       "      <td>50.15</td>\n",
       "      <td>60.08</td>\n",
       "    </tr>\n",
       "    <tr>\n",
       "      <th>8</th>\n",
       "      <td>2019</td>\n",
       "      <td>9</td>\n",
       "      <td>76659</td>\n",
       "      <td>7.25</td>\n",
       "      <td>48.24</td>\n",
       "      <td>59.90</td>\n",
       "    </tr>\n",
       "    <tr>\n",
       "      <th>9</th>\n",
       "      <td>2019</td>\n",
       "      <td>10</td>\n",
       "      <td>71880</td>\n",
       "      <td>8.70</td>\n",
       "      <td>50.19</td>\n",
       "      <td>59.68</td>\n",
       "    </tr>\n",
       "    <tr>\n",
       "      <th>10</th>\n",
       "      <td>2019</td>\n",
       "      <td>11</td>\n",
       "      <td>73598</td>\n",
       "      <td>8.40</td>\n",
       "      <td>51.11</td>\n",
       "      <td>59.83</td>\n",
       "    </tr>\n",
       "    <tr>\n",
       "      <th>11</th>\n",
       "      <td>2019</td>\n",
       "      <td>12</td>\n",
       "      <td>74893</td>\n",
       "      <td>8.10</td>\n",
       "      <td>51.49</td>\n",
       "      <td>59.77</td>\n",
       "    </tr>\n",
       "    <tr>\n",
       "      <th>12</th>\n",
       "      <td>2020</td>\n",
       "      <td>13</td>\n",
       "      <td>69003</td>\n",
       "      <td>8.40</td>\n",
       "      <td>50.10</td>\n",
       "      <td>59.29</td>\n",
       "    </tr>\n",
       "    <tr>\n",
       "      <th>13</th>\n",
       "      <td>2020</td>\n",
       "      <td>14</td>\n",
       "      <td>78542</td>\n",
       "      <td>7.40</td>\n",
       "      <td>49.24</td>\n",
       "      <td>60.40</td>\n",
       "    </tr>\n",
       "    <tr>\n",
       "      <th>14</th>\n",
       "      <td>2020</td>\n",
       "      <td>15</td>\n",
       "      <td>72543</td>\n",
       "      <td>8.00</td>\n",
       "      <td>50.04</td>\n",
       "      <td>59.89</td>\n",
       "    </tr>\n",
       "    <tr>\n",
       "      <th>15</th>\n",
       "      <td>2020</td>\n",
       "      <td>16</td>\n",
       "      <td>74247</td>\n",
       "      <td>8.30</td>\n",
       "      <td>49.46</td>\n",
       "      <td>60.06</td>\n",
       "    </tr>\n",
       "    <tr>\n",
       "      <th>16</th>\n",
       "      <td>2020</td>\n",
       "      <td>17</td>\n",
       "      <td>76253</td>\n",
       "      <td>8.10</td>\n",
       "      <td>51.62</td>\n",
       "      <td>60.51</td>\n",
       "    </tr>\n",
       "    <tr>\n",
       "      <th>17</th>\n",
       "      <td>2020</td>\n",
       "      <td>18</td>\n",
       "      <td>72582</td>\n",
       "      <td>8.20</td>\n",
       "      <td>49.78</td>\n",
       "      <td>58.93</td>\n",
       "    </tr>\n",
       "    <tr>\n",
       "      <th>18</th>\n",
       "      <td>2020</td>\n",
       "      <td>19</td>\n",
       "      <td>69022</td>\n",
       "      <td>8.99</td>\n",
       "      <td>48.60</td>\n",
       "      <td>60.09</td>\n",
       "    </tr>\n",
       "    <tr>\n",
       "      <th>19</th>\n",
       "      <td>2020</td>\n",
       "      <td>20</td>\n",
       "      <td>76200</td>\n",
       "      <td>7.99</td>\n",
       "      <td>49.00</td>\n",
       "      <td>61.00</td>\n",
       "    </tr>\n",
       "    <tr>\n",
       "      <th>20</th>\n",
       "      <td>2020</td>\n",
       "      <td>21</td>\n",
       "      <td>69701</td>\n",
       "      <td>8.50</td>\n",
       "      <td>48.00</td>\n",
       "      <td>59.00</td>\n",
       "    </tr>\n",
       "    <tr>\n",
       "      <th>21</th>\n",
       "      <td>2020</td>\n",
       "      <td>22</td>\n",
       "      <td>77005</td>\n",
       "      <td>7.90</td>\n",
       "      <td>54.00</td>\n",
       "      <td>59.50</td>\n",
       "    </tr>\n",
       "    <tr>\n",
       "      <th>22</th>\n",
       "      <td>2020</td>\n",
       "      <td>23</td>\n",
       "      <td>70987</td>\n",
       "      <td>7.99</td>\n",
       "      <td>48.70</td>\n",
       "      <td>58.00</td>\n",
       "    </tr>\n",
       "    <tr>\n",
       "      <th>23</th>\n",
       "      <td>2020</td>\n",
       "      <td>24</td>\n",
       "      <td>75643</td>\n",
       "      <td>8.25</td>\n",
       "      <td>50.00</td>\n",
       "      <td>60.50</td>\n",
       "    </tr>\n",
       "  </tbody>\n",
       "</table>\n",
       "</div>"
      ],
      "text/plain": [
       "    Year  Month  units_sold  dollar_price  advertisment  promotions\n",
       "0   2019      1       73959          8.75         50.04       61.13\n",
       "1   2019      2       71544          8.99         50.74       60.19\n",
       "2   2019      3       78587          7.50         50.14       59.16\n",
       "3   2019      4       80364          7.25         50.27       60.38\n",
       "4   2019      5       78771          7.40         51.25       59.71\n",
       "5   2019      6       71986          8.50         50.65       59.88\n",
       "6   2019      7       74885          8.40         50.87       60.14\n",
       "7   2019      8       73345          7.90         50.15       60.08\n",
       "8   2019      9       76659          7.25         48.24       59.90\n",
       "9   2019     10       71880          8.70         50.19       59.68\n",
       "10  2019     11       73598          8.40         51.11       59.83\n",
       "11  2019     12       74893          8.10         51.49       59.77\n",
       "12  2020     13       69003          8.40         50.10       59.29\n",
       "13  2020     14       78542          7.40         49.24       60.40\n",
       "14  2020     15       72543          8.00         50.04       59.89\n",
       "15  2020     16       74247          8.30         49.46       60.06\n",
       "16  2020     17       76253          8.10         51.62       60.51\n",
       "17  2020     18       72582          8.20         49.78       58.93\n",
       "18  2020     19       69022          8.99         48.60       60.09\n",
       "19  2020     20       76200          7.99         49.00       61.00\n",
       "20  2020     21       69701          8.50         48.00       59.00\n",
       "21  2020     22       77005          7.90         54.00       59.50\n",
       "22  2020     23       70987          7.99         48.70       58.00\n",
       "23  2020     24       75643          8.25         50.00       60.50"
      ]
     },
     "execution_count": 78,
     "metadata": {},
     "output_type": "execute_result"
    }
   ],
   "source": [
    "df"
   ]
  },
  {
   "cell_type": "code",
   "execution_count": 79,
   "id": "961311b9",
   "metadata": {},
   "outputs": [
    {
     "data": {
      "text/plain": [
       "Year              int64\n",
       "Month             int64\n",
       "units_sold        int64\n",
       "dollar_price    float64\n",
       "advertisment    float64\n",
       "promotions      float64\n",
       "dtype: object"
      ]
     },
     "execution_count": 79,
     "metadata": {},
     "output_type": "execute_result"
    }
   ],
   "source": [
    "df.dtypes"
   ]
  },
  {
   "cell_type": "code",
   "execution_count": null,
   "id": "cc0b76b3",
   "metadata": {},
   "outputs": [],
   "source": []
  },
  {
   "cell_type": "markdown",
   "id": "8d0e51b1",
   "metadata": {},
   "source": [
    "### creating model "
   ]
  },
  {
   "cell_type": "code",
   "execution_count": 80,
   "id": "f2423d3d",
   "metadata": {},
   "outputs": [
    {
     "name": "stderr",
     "output_type": "stream",
     "text": [
      "C:\\Users\\miche\\AppData\\Local\\Temp\\ipykernel_18336\\1875323608.py:4: FutureWarning: The frame.append method is deprecated and will be removed from pandas in a future version. Use pandas.concat instead.\n",
      "  components = components.append({'component':'intercept', 'value':lin.intercept_}, ignore_index = True)\n"
     ]
    }
   ],
   "source": [
    "#create coefficients\n",
    "coef = lin.coef_\n",
    "components = pd.DataFrame(zip(x.columns, coef), columns = ['component', 'value'])\n",
    "components = components.append({'component':'intercept', 'value':lin.intercept_}, ignore_index = True)"
   ]
  },
  {
   "cell_type": "code",
   "execution_count": 81,
   "id": "762ee065",
   "metadata": {},
   "outputs": [
    {
     "name": "stdout",
     "output_type": "stream",
     "text": [
      "[[-5187.34408176   650.91848914  1877.37446561]]\n"
     ]
    }
   ],
   "source": [
    "print(coef)"
   ]
  },
  {
   "cell_type": "code",
   "execution_count": 82,
   "id": "d2fbbf35",
   "metadata": {},
   "outputs": [
    {
     "name": "stdout",
     "output_type": "stream",
     "text": [
      "      component                                              value\n",
      "0  dollar_price  [-5187.344081763065, 650.9184891432907, 1877.3...\n",
      "1     intercept                              [-28513.797336252625]\n"
     ]
    }
   ],
   "source": [
    "print(components)"
   ]
  },
  {
   "cell_type": "code",
   "execution_count": 83,
   "id": "92f55c58",
   "metadata": {},
   "outputs": [
    {
     "ename": "NameError",
     "evalue": "name 'intercept' is not defined",
     "output_type": "error",
     "traceback": [
      "\u001b[1;31m---------------------------------------------------------------------------\u001b[0m",
      "\u001b[1;31mNameError\u001b[0m                                 Traceback (most recent call last)",
      "Input \u001b[1;32mIn [83]\u001b[0m, in \u001b[0;36m<cell line: 1>\u001b[1;34m()\u001b[0m\n\u001b[1;32m----> 1\u001b[0m \u001b[38;5;28mprint\u001b[39m(\u001b[43mintercept\u001b[49m)\n",
      "\u001b[1;31mNameError\u001b[0m: name 'intercept' is not defined"
     ]
    }
   ],
   "source": [
    "print(intercept)"
   ]
  },
  {
   "cell_type": "code",
   "execution_count": null,
   "id": "58dc322e",
   "metadata": {},
   "outputs": [],
   "source": []
  }
 ],
 "metadata": {
  "kernelspec": {
   "display_name": "Python 3 (ipykernel)",
   "language": "python",
   "name": "python3"
  },
  "language_info": {
   "codemirror_mode": {
    "name": "ipython",
    "version": 3
   },
   "file_extension": ".py",
   "mimetype": "text/x-python",
   "name": "python",
   "nbconvert_exporter": "python",
   "pygments_lexer": "ipython3",
   "version": "3.9.12"
  }
 },
 "nbformat": 4,
 "nbformat_minor": 5
}
